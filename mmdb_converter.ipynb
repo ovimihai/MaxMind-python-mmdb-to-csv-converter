{
  "nbformat": 4,
  "nbformat_minor": 0,
  "metadata": {
    "colab": {
      "name": "mmdb converter v2.ipynb",
      "provenance": [],
      "collapsed_sections": [],
      "authorship_tag": "ABX9TyPU9k05WNCnQSbi4tN+nrR+",
      "include_colab_link": true
    },
    "kernelspec": {
      "name": "python3",
      "display_name": "Python 3"
    },
    "language_info": {
      "name": "python"
    }
  },
  "cells": [
    {
      "cell_type": "markdown",
      "metadata": {
        "id": "view-in-github",
        "colab_type": "text"
      },
      "source": [
        "<a href=\"https://colab.research.google.com/github/ovimihai/MaxMind-python-mmdb-to-csv-converter/blob/main/mmdb_converter.ipynb\" target=\"_parent\"><img src=\"https://colab.research.google.com/assets/colab-badge.svg\" alt=\"Open In Colab\"/></a>"
      ]
    },
    {
      "cell_type": "markdown",
      "metadata": {
        "id": "UedWZ-guPig4"
      },
      "source": [
        "# MaxMind mmdb to csv converter\n",
        "Can run directly in Google Colab - no VMs required\n",
        "\n",
        "## Steps\n",
        "1. Open this notebook in Google Colab\n",
        "2. upload your mmdb to your Google Drive\n",
        "3. start the conversion"
      ]
    },
    {
      "cell_type": "code",
      "metadata": {
        "id": "baATpM4SPW5V"
      },
      "source": [
        "!pip install maxminddb"
      ],
      "execution_count": null,
      "outputs": []
    },
    {
      "cell_type": "markdown",
      "metadata": {
        "id": "GEoxbAjJWlEr"
      },
      "source": [
        "### Get from Google Drive\n",
        "- Connect your Google Drive to Colab\n",
        "- Upload your mmdb file"
      ]
    },
    {
      "cell_type": "code",
      "metadata": {
        "id": "way14-ccPXrA"
      },
      "source": [
        "from google.colab import drive\n",
        "drive.mount('/content/drive')\n",
        "\n",
        "path = \"/content/drive/MyDrive/\" + \"path/\""
      ],
      "execution_count": null,
      "outputs": []
    },
    {
      "cell_type": "markdown",
      "metadata": {
        "id": "ThWMSpH8Qdvx"
      },
      "source": [
        "### Or download directly here"
      ]
    },
    {
      "cell_type": "code",
      "metadata": {
        "id": "E1Aq07cfQlpU"
      },
      "source": [
        "# !wget https://github.com/maxmind/MaxMind-DB/raw/main/test-data/GeoIP2-City-Test.mmdb"
      ],
      "execution_count": null,
      "outputs": []
    },
    {
      "cell_type": "code",
      "metadata": {
        "id": "B9K6KKtOPlla"
      },
      "source": [
        "# path = \"/content/\""
      ],
      "execution_count": null,
      "outputs": []
    },
    {
      "cell_type": "code",
      "metadata": {
        "id": "_SR2uTswPtf-"
      },
      "source": [
        "import maxminddb\n",
        "import copy\n",
        "import pandas as pd"
      ],
      "execution_count": null,
      "outputs": []
    },
    {
      "cell_type": "code",
      "metadata": {
        "id": "QsE0-ZFSQoG7"
      },
      "source": [
        "from ipaddress import IPv4Network, IPv6Network\n",
        "\n",
        "\n",
        "def iterable(self):\n",
        "    \n",
        "    if self._metadata.ip_version == 4:\n",
        "        start_node = self._start_node(32)\n",
        "        start_network = IPv4Network((0, 0))\n",
        "    else:\n",
        "        start_node = self._start_node(128)\n",
        "        start_network = IPv6Network((0, 0))\n",
        "\n",
        "    search_nodes = [(start_node, start_network)]\n",
        "    while search_nodes:\n",
        "        node, network = search_nodes.pop()\n",
        "\n",
        "        if network.version == 6:\n",
        "            naddr = network.network_address\n",
        "            if naddr.ipv4_mapped or naddr.sixtofour:\n",
        "                # skip IPv4-Mapped IPv6 and 6to4 mapped addresses, as these are\n",
        "                # already included in the IPv4 part of the tree below\n",
        "                continue\n",
        "            elif int(naddr) < 2 ** 32 and network.prefixlen == 96:\n",
        "                # once in the IPv4 part of the tree, switch to IPv4Network\n",
        "                ipnum = int(naddr)\n",
        "                mask = network.prefixlen - 128 + 32\n",
        "                network = IPv4Network((ipnum, mask))\n",
        "        \n",
        "        \n",
        "        subnets = list(network.subnets())\n",
        "        for bit in (0, 1):\n",
        "            next_node = self._read_node(node, bit)\n",
        "            subnet = subnets[bit]\n",
        "\n",
        "            if next_node > self._metadata.node_count:\n",
        "                data = self._resolve_data_pointer(next_node)\n",
        "                yield (subnet, data)\n",
        "            elif next_node < self._metadata.node_count:\n",
        "                search_nodes.append((next_node, subnet))\n",
        "\n"
      ],
      "execution_count": null,
      "outputs": []
    },
    {
      "cell_type": "markdown",
      "metadata": {
        "id": "CnTppwIKQyQ0"
      },
      "source": [
        "Input the file name"
      ]
    },
    {
      "cell_type": "code",
      "metadata": {
        "id": "RBtLF6oRQw2B"
      },
      "source": [
        "input_file = 'GeoIP2-City.mmdb'\n",
        "# input_file = 'GeoIP2-City-Test.mmdb'\n",
        "\n",
        "output_file = 'out.csv'"
      ],
      "execution_count": null,
      "outputs": []
    },
    {
      "cell_type": "code",
      "metadata": {
        "id": "xf5C2hdHtcVj"
      },
      "source": [
        "counter=0\n",
        "write_header = True\n",
        "\n",
        "row_format = {\n",
        "  'range': \"\",\n",
        "  'continent_code': \"\",\n",
        "  'continent': \"\",\n",
        "  'country_code': \"\",\n",
        "  'country': \"\",\n",
        "  'city': \"\",\n",
        "  'region': \"\",\n",
        "  'region_code': \"\",\n",
        "  'latitude': None,\n",
        "  'longitude': None,\n",
        "  'location_accuracy_radius': None,\n",
        "}\n",
        "out_file = path + output_file"
      ],
      "execution_count": null,
      "outputs": []
    },
    {
      "cell_type": "code",
      "metadata": {
        "id": "lw7mzOMAWYy8"
      },
      "source": [
        "with maxminddb.open_database(path + input_file) as reader:\n",
        "\n",
        "  rows = []\n",
        "  for node in iterable(reader):\n",
        "    \n",
        "    row = copy.deepcopy(row_format)\n",
        "    \n",
        "    row['range'] = format(node[0])\n",
        "\n",
        "    d = node[1]\n",
        "\n",
        "    if 'continent' in d:\n",
        "      if 'code' in d['continent']:\n",
        "        row['continent_code'] = d['continent']['code']\n",
        "\n",
        "      if 'names' in d['continent']:\n",
        "        if 'en' in d['continent']['names']:\n",
        "            row['continent'] = d['continent']['names']['en']\n",
        "    \n",
        "    if 'registered_country' in d:\n",
        "      if 'iso_code' in d['registered_country']:\n",
        "          row['country_code'] = d['registered_country']['iso_code']\n",
        "\n",
        "      if 'names' in d['registered_country']:\n",
        "        if 'en' in d['registered_country']['names']:\n",
        "            row['country'] = d['registered_country']['names']['en']\n",
        "    \n",
        "    if 'city' in d:\n",
        "      if 'names' in d['city']:\n",
        "          if 'en' in d['city']['names']:\n",
        "            row['city'] = d['city']['names']['en']\n",
        "\n",
        "            \n",
        "\n",
        "    if 'subdivisions' in d:\n",
        "      if 'names' in d['subdivisions'][0]:\n",
        "          if 'en' in d['subdivisions'][0]['names']:\n",
        "            row['region'] = d['subdivisions'][0]['names']['en']\n",
        "      if 'names' in d['subdivisions'][0]:\n",
        "            row['region_code'] = d['subdivisions'][0]['iso_code']\n",
        "\n",
        "\n",
        "    if 'location' in d:\n",
        "      if 'latitude' in d['location']:\n",
        "        row['latitude'] = d['location']['latitude']\n",
        "\n",
        "      if 'longitude' in d['location']:\n",
        "        row['longitude'] = d['location']['longitude']\n",
        "\n",
        "      if 'accuracy_radius' in d['location']:\n",
        "        row['location_accuracy_radius'] = d['location']['accuracy_radius']\n",
        "\n",
        "    if 'longitude' in d:\n",
        "      row['longitude'] = d['longitude']\n",
        "    \n",
        "    counter += 1\n",
        "    rows.append(row)\n",
        "\n",
        "    if counter % 10000 == 0:\n",
        "      pd.DataFrame(rows).to_csv(out_file, mode='a', header=write_header, index=False)\n",
        "      write_header = False\n",
        "      rows = []\n",
        "      print('.',end='')\n",
        "    \n",
        "    if counter % 1000000 == 0:\n",
        "      print('.')\n",
        "\n",
        "\n",
        "pd.DataFrame(rows).to_csv(out_file, mode='a', header=False, index=False)\n",
        "\n"
      ],
      "execution_count": null,
      "outputs": []
    },
    {
      "cell_type": "markdown",
      "metadata": {
        "id": "n9yC6zCbR7qw"
      },
      "source": [
        "Check output"
      ]
    },
    {
      "cell_type": "code",
      "metadata": {
        "id": "J-Xn1QCAQw4D"
      },
      "source": [
        "!head /content/drive/MyDrive/path/out.csv"
      ],
      "execution_count": null,
      "outputs": []
    },
    {
      "cell_type": "code",
      "metadata": {
        "id": "u3S-IDz3SxUu"
      },
      "source": [
        ""
      ],
      "execution_count": null,
      "outputs": []
    }
  ]
}
