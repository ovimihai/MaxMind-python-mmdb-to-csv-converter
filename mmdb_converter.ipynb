{
  "cells": [
    {
      "cell_type": "markdown",
      "metadata": {
        "id": "UedWZ-guPig4"
      },
      "source": [
        "# MaxMind mmdb to csv converter\n",
        "Can run directly in Google Colab - no VMs required\n",
        "\n",
        "## Steps\n",
        "1. Open this notebook in Google Colab\n",
        "2. upload your mmdb to your Google Drive\n",
        "3. start the conversion"
      ]
    },
    {
      "cell_type": "code",
      "execution_count": null,
      "metadata": {
        "colab": {
          "base_uri": "https://localhost:8080/"
        },
        "id": "baATpM4SPW5V",
        "outputId": "958bb0dc-cd8b-437b-8eb8-7fe43e85abdd"
      },
      "outputs": [],
      "source": [
        "!pip install maxminddb==2.6.3"
      ]
    },
    {
      "cell_type": "markdown",
      "metadata": {
        "id": "GEoxbAjJWlEr"
      },
      "source": [
        "### Get from Google Drive\n",
        "- Connect your Google Drive to Colab\n",
        "- Upload your mmdb file"
      ]
    },
    {
      "cell_type": "code",
      "execution_count": 2,
      "metadata": {
        "id": "pgZoSopUwxST"
      },
      "outputs": [],
      "source": [
        "import os\n",
        "\n",
        "path = \"/content/drive/MyDrive/geoip_convert/\"\n",
        "mmdb_file = \"GeoIP2-City-Test.mmdb\"\n",
        "\n",
        "os.environ[\"MMDB_DIR\"] = path\n",
        "os.environ[\"MMDB_FILE\"] = mmdb_file"
      ]
    },
    {
      "cell_type": "code",
      "execution_count": null,
      "metadata": {
        "colab": {
          "base_uri": "https://localhost:8080/"
        },
        "id": "way14-ccPXrA",
        "outputId": "aadbdfb8-56ae-4d40-dd8c-27e769a9b7ec"
      },
      "outputs": [],
      "source": [
        "from google.colab import drive\n",
        "drive.mount('/content/drive')"
      ]
    },
    {
      "cell_type": "markdown",
      "metadata": {
        "id": "ThWMSpH8Qdvx"
      },
      "source": [
        "### Or download directly here"
      ]
    },
    {
      "cell_type": "code",
      "execution_count": null,
      "metadata": {
        "colab": {
          "base_uri": "https://localhost:8080/"
        },
        "id": "E1Aq07cfQlpU",
        "outputId": "4cd9b27e-0668-4437-ef25-3664cde599d2"
      },
      "outputs": [],
      "source": [
        "!wget --directory-prefix=$MMDB_DIR https://github.com/maxmind/MaxMind-DB/raw/main/test-data/$MMDB_FILE"
      ]
    },
    {
      "cell_type": "code",
      "execution_count": null,
      "metadata": {
        "colab": {
          "base_uri": "https://localhost:8080/"
        },
        "id": "QpJ2htG0upgv",
        "outputId": "d2ac17df-5c03-4061-ae76-57434e9fde34"
      },
      "outputs": [],
      "source": [
        "!ls $MMDB_DIR"
      ]
    },
    {
      "cell_type": "code",
      "execution_count": 10,
      "metadata": {
        "id": "B9K6KKtOPlla"
      },
      "outputs": [],
      "source": []
    },
    {
      "cell_type": "code",
      "execution_count": 11,
      "metadata": {
        "id": "_SR2uTswPtf-"
      },
      "outputs": [],
      "source": [
        "import maxminddb\n",
        "import ipaddress\n",
        "import copy\n",
        "import pandas as pd"
      ]
    },
    {
      "cell_type": "markdown",
      "metadata": {
        "id": "CnTppwIKQyQ0"
      },
      "source": [
        "Input the file name"
      ]
    },
    {
      "cell_type": "code",
      "execution_count": 5,
      "metadata": {
        "id": "RBtLF6oRQw2B"
      },
      "outputs": [],
      "source": [
        "output_file = 'out.csv'"
      ]
    },
    {
      "cell_type": "code",
      "execution_count": 6,
      "metadata": {
        "id": "xf5C2hdHtcVj"
      },
      "outputs": [],
      "source": [
        "counter=0\n",
        "write_header = True\n",
        "\n",
        "row_format = {\n",
        "  'type': \"ipv4\",\n",
        "  'range': \"\",\n",
        "  'continent_code': \"\",\n",
        "  'continent': \"\",\n",
        "  'country_code': \"\",\n",
        "  'country': \"\",\n",
        "  'city': \"\",\n",
        "  'region': \"\",\n",
        "  'region_code': \"\",\n",
        "  'latitude': None,\n",
        "  'longitude': None,\n",
        "  'location_accuracy_radius': None,\n",
        "}\n",
        "out_file = path + output_file"
      ]
    },
    {
      "cell_type": "code",
      "execution_count": 6,
      "metadata": {
        "id": "Jd6kBoQ8yWH_"
      },
      "outputs": [],
      "source": []
    },
    {
      "cell_type": "code",
      "execution_count": 13,
      "metadata": {
        "id": "lw7mzOMAWYy8"
      },
      "outputs": [],
      "source": [
        "with maxminddb.open_database(path + mmdb_file) as reader:\n",
        "\n",
        "  rows = []\n",
        "  for node in reader:\n",
        "\n",
        "    row = copy.deepcopy(row_format)\n",
        "\n",
        "    row['range'] = format(node[0])\n",
        "\n",
        "    if isinstance(node[0], ipaddress.IPv6Network):\n",
        "      row['type'] = 'ipv6'\n",
        "\n",
        "    d = node[1]\n",
        "\n",
        "    if 'continent' in d:\n",
        "      if 'code' in d['continent']:\n",
        "        row['continent_code'] = d['continent']['code']\n",
        "\n",
        "      if 'names' in d['continent']:\n",
        "        if 'en' in d['continent']['names']:\n",
        "            row['continent'] = d['continent']['names']['en']\n",
        "\n",
        "    if 'registered_country' in d:\n",
        "      if 'iso_code' in d['registered_country']:\n",
        "          row['country_code'] = d['registered_country']['iso_code']\n",
        "\n",
        "      if 'names' in d['registered_country']:\n",
        "        if 'en' in d['registered_country']['names']:\n",
        "            row['country'] = d['registered_country']['names']['en']\n",
        "\n",
        "    if 'city' in d:\n",
        "      if 'names' in d['city']:\n",
        "          if 'en' in d['city']['names']:\n",
        "            row['city'] = d['city']['names']['en']\n",
        "\n",
        "\n",
        "\n",
        "    if 'subdivisions' in d:\n",
        "      if 'names' in d['subdivisions'][0]:\n",
        "          if 'en' in d['subdivisions'][0]['names']:\n",
        "            row['region'] = d['subdivisions'][0]['names']['en']\n",
        "      if 'names' in d['subdivisions'][0]:\n",
        "            row['region_code'] = d['subdivisions'][0]['iso_code']\n",
        "\n",
        "\n",
        "    if 'location' in d:\n",
        "      if 'latitude' in d['location']:\n",
        "        row['latitude'] = d['location']['latitude']\n",
        "\n",
        "      if 'longitude' in d['location']:\n",
        "        row['longitude'] = d['location']['longitude']\n",
        "\n",
        "      if 'accuracy_radius' in d['location']:\n",
        "        row['location_accuracy_radius'] = d['location']['accuracy_radius']\n",
        "\n",
        "    if 'longitude' in d:\n",
        "      row['longitude'] = d['longitude']\n",
        "\n",
        "    counter += 1\n",
        "    rows.append(row)\n",
        "\n",
        "    if counter % 10000 == 0:\n",
        "      pd.DataFrame(rows).to_csv(out_file, mode='a', header=write_header, index=False)\n",
        "      write_header = False\n",
        "      rows = []\n",
        "      print('.',end='')\n",
        "\n",
        "    if counter % 1000000 == 0:\n",
        "      print('.')\n",
        "\n",
        "\n",
        "pd.DataFrame(rows).to_csv(out_file, mode='a', header=False, index=False)\n",
        "\n"
      ]
    },
    {
      "cell_type": "markdown",
      "metadata": {
        "id": "n9yC6zCbR7qw"
      },
      "source": [
        "Check output"
      ]
    },
    {
      "cell_type": "code",
      "execution_count": null,
      "metadata": {
        "colab": {
          "base_uri": "https://localhost:8080/"
        },
        "id": "J-Xn1QCAQw4D",
        "outputId": "0488dde8-d73f-4c46-b0a2-c537ac5f12fd"
      },
      "outputs": [],
      "source": [
        "!head \"$MMDB_PATH/out.csv\""
      ]
    },
    {
      "cell_type": "code",
      "execution_count": null,
      "metadata": {
        "id": "XUHGXtM9652p"
      },
      "outputs": [],
      "source": []
    }
  ],
  "metadata": {
    "colab": {
      "name": "mmdb converter v2.ipynb",
      "provenance": []
    },
    "kernelspec": {
      "display_name": "Python 3",
      "name": "python3"
    },
    "language_info": {
      "name": "python"
    }
  },
  "nbformat": 4,
  "nbformat_minor": 0
}
